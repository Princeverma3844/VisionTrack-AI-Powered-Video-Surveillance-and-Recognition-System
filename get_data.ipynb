{
 "cells": [
  {
   "cell_type": "code",
   "execution_count": 1,
   "metadata": {},
   "outputs": [],
   "source": [
    "import numpy as np\n",
    "import pandas as pd\n",
    "import json"
   ]
  },
  {
   "cell_type": "code",
   "execution_count": 45,
   "metadata": {},
   "outputs": [
    {
     "data": {
      "text/plain": [
       "array([[ 1. , 12.5, 13. , 11. , 13.5],\n",
       "       [ 1.5, 13. , 15. , 16. , 17. ],\n",
       "       [ 2. , 14.5, 16.5, 18. , 19.5]], dtype=float32)"
      ]
     },
     "execution_count": 45,
     "metadata": {},
     "output_type": "execute_result"
    }
   ],
   "source": [
    "with open(\"./text.txt\") as f:\n",
    "    label = [x.split() for x in f.read().strip().splitlines() if len(x)]\n",
    "    label = np.array(label, dtype=np.float32)\n",
    "    nl = len(label)\n",
    "\n",
    "label\n"
   ]
  },
  {
   "cell_type": "code",
   "execution_count": 63,
   "metadata": {},
   "outputs": [],
   "source": [
    "import json\n",
    "\n",
    "# Open the text file containing JSON objects\n",
    "with open('./People/labels/val2017.txt', 'r') as file:\n",
    "    # Read the contents of the file\n",
    "    data = file.read()\n",
    "\n",
    "# If the JSON objects are separated by newlines\n",
    "json_objects = data.splitlines()"
   ]
  },
  {
   "cell_type": "code",
   "execution_count": 64,
   "metadata": {},
   "outputs": [
    {
     "name": "stdout",
     "output_type": "stream",
     "text": [
      "4370\n"
     ]
    }
   ],
   "source": [
    "print(len(json_objects))"
   ]
  },
  {
   "cell_type": "code",
   "execution_count": 65,
   "metadata": {},
   "outputs": [
    {
     "name": "stdout",
     "output_type": "stream",
     "text": [
      "dict_keys(['ID', 'gtboxes'])\n"
     ]
    },
    {
     "data": {
      "text/plain": [
       "[72, 202, 163, 503]"
      ]
     },
     "execution_count": 65,
     "metadata": {},
     "output_type": "execute_result"
    }
   ],
   "source": [
    "obj = json.loads(json_objects[0])\n",
    "print(obj.keys())\n",
    "obj[\"gtboxes\"][0][\"fbox\"]\n",
    "# obj[\"ID\"]\n"
   ]
  },
  {
   "cell_type": "code",
   "execution_count": 66,
   "metadata": {},
   "outputs": [
    {
     "name": "stdout",
     "output_type": "stream",
     "text": [
      "[0, 72, 202, 163, 503]\n",
      "[0, 199, 180, 144, 499]\n",
      "[0, 310, 200, 162, 497]\n",
      "[0, 417, 182, 139, 518]\n",
      "[0, 429, 171, 224, 511]\n",
      "[0, 543, 178, 262, 570]\n"
     ]
    }
   ],
   "source": [
    "for objt in json_objects:\n",
    "    objt = json.loads(objt)\n",
    "    file_name = objt[\"ID\"] + \".txt\"\n",
    "    for labels in objt[\"gtboxes\"]:\n",
    "        out = [0]\n",
    "        for vals in labels[\"fbox\"]:\n",
    "            out.append(vals)\n",
    "        print(out)\n",
    "    break\n"
   ]
  },
  {
   "cell_type": "code",
   "execution_count": 67,
   "metadata": {},
   "outputs": [],
   "source": [
    "for objt in json_objects:\n",
    "    objt = json.loads(objt)\n",
    "    file_name = \"./People/labels/val/\" + objt[\"ID\"] + \".txt\"  # Create the filename from the ID\n",
    "\n",
    "    with open(file_name, 'w') as file:  # Open the file for writing\n",
    "        for labels in objt[\"gtboxes\"]:\n",
    "            out = [0]  # Start the output list with 0\n",
    "            for vals in labels[\"fbox\"]:\n",
    "                out.append(vals)\n",
    "            file.write(\" \".join(map(str, out)) + \"\\n\")  # Write the output list as space-separated string"
   ]
  },
  {
   "cell_type": "code",
   "execution_count": null,
   "metadata": {},
   "outputs": [],
   "source": []
  }
 ],
 "metadata": {
  "kernelspec": {
   "display_name": "Python 3",
   "language": "python",
   "name": "python3"
  },
  "language_info": {
   "codemirror_mode": {
    "name": "ipython",
    "version": 3
   },
   "file_extension": ".py",
   "mimetype": "text/x-python",
   "name": "python",
   "nbconvert_exporter": "python",
   "pygments_lexer": "ipython3",
   "version": "3.10.8"
  }
 },
 "nbformat": 4,
 "nbformat_minor": 2
}
